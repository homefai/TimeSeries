{
 "cells": [
  {
   "cell_type": "code",
   "execution_count": 32,
   "metadata": {
    "collapsed": false,
    "deletable": true,
    "editable": true
   },
   "outputs": [
    {
     "name": "stdout",
     "output_type": "stream",
     "text": [
      "Loading the data\n",
      "Formating the data....\n",
      "Converting String Date to python DateTime object...\n",
      "End of formating the data.\n",
      "Get the index...\n",
      "Exporting the data.......\n",
      "Exported the data to ../webCrawler/LSTMlib/Data/dataset/GoogleSheetstockdata.pymd successfully!\n"
     ]
    }
   ],
   "source": [
    "import numpy as np\n",
    "import pandas as pd\n",
    "import os\n",
    "import datetime\n",
    "import nbconvert as nbc\n",
    "#import scipy.fftpack\n",
    "\n",
    "\n",
    "#define the path of the export path\n",
    "BASEPATH = \"../webCrawler/LSTMlib/Data/dataset/\"\n",
    "FILENAME = \"GoogleSheetstockdata.pymd\"\n",
    "\n",
    "def loaddataFromGoogleSheet():\n",
    "    dir_file =  os.listdir(os.getcwd())\n",
    "    stockdata = []\n",
    "    for i in dir_file:\n",
    "        if i.find('.csv') >=0: \n",
    "            stockdata.append(pd.read_csv(i))\n",
    "    stockdata = pd.concat(stockdata)\n",
    "    return stockdata\n",
    "\n",
    "def formatRawData(data): \n",
    "    print(\"Formating the data....\")\n",
    "    data = formatDateToDatTimeObj(data)\n",
    "    print(\"End of formating the data.\")\n",
    "    return data\n",
    "    \n",
    "def formatDateToDatTimeObj(data): \n",
    "    print(\"Converting String Date to python DateTime object...\")\n",
    "    data[\"DateTime\"]= data[\"Date\"].apply(lambda x: datetime.datetime.strptime(x, \"%m/%d/%Y %H:%M:%S\"))  \n",
    "    return data\n",
    "\n",
    "def getStockCodeFromGoogleSheet(pd_data): \n",
    "    print(\"Get the index...\")\n",
    "    return pd_data.Stock_Code.unique()\n",
    "\n",
    "def exportStockDataFromGoogleSheet(model, filename=None):\n",
    "    try:\n",
    "        import cPickle as pik\n",
    "    except:\n",
    "        import pickle as pik\n",
    "        \n",
    "    if filename == None:\n",
    "        filename = BASEPATH + FILENAME\n",
    "    else: \n",
    "        filename = BASEPATH + filename\n",
    "    print(\"Exporting the data.......\")\n",
    "    try:\n",
    "        with open(filename, \"wb\") as f:\n",
    "            pik.dump(model, f)\n",
    "        print(\"Exported the data to %s successfully!\" % filename)\n",
    "        return filename, True\n",
    "    except: \n",
    "        print(\"Cannot export the data to the destination folder\")\n",
    "        return \"Error\" , False\n",
    "        \n",
    "def runExportData(): \n",
    "    stockdata_model = {}\n",
    "    print(\"Loading the data\")\n",
    "    stockdata_model[\"data\"] = loaddataFromGoogleSheet()\n",
    "    stockdata_model[\"data\"] = formatRawData(stockdata_model[\"data\"])\n",
    "    stockdata_model[\"index\"] = getStockCodeFromGoogleSheet(stockdata_model[\"data\"])\n",
    "    exportStockDataFromGoogleSheet(stockdata_model)  \n",
    "    \n",
    "\n",
    "def main(): \n",
    "    runExportData()\n",
    "    \n",
    "if __name__ == '__main__':\n",
    "    main()"
   ]
  },
  {
   "cell_type": "code",
   "execution_count": 30,
   "metadata": {
    "collapsed": false
   },
   "outputs": [
    {
     "name": "stdout",
     "output_type": "stream",
     "text": [
      "Loading the data\n",
      "Formating the data....\n",
      "Converting String Date to python DateTime object...\n",
      "End of formating the data.\n",
      "Get the index...\n",
      "Exporting the data.......\n",
      "Exported the data to ../webCrawler/LSTMlib/Data/dataset/GoogleSheetstockdata.pymd successfully!\n"
     ]
    }
   ],
   "source": [
    "runExportData()"
   ]
  },
  {
   "cell_type": "code",
   "execution_count": 5,
   "metadata": {
    "collapsed": false
   },
   "outputs": [
    {
     "name": "stderr",
     "output_type": "stream",
     "text": [
      "C:\\Users\\Allen\\Anaconda3\\envs\\tensorflow_gpu2\\lib\\site-packages\\ipykernel\\__main__.py:9: SettingWithCopyWarning: \n",
      "A value is trying to be set on a copy of a slice from a DataFrame.\n",
      "Try using .loc[row_indexer,col_indexer] = value instead\n",
      "\n",
      "See the caveats in the documentation: http://pandas.pydata.org/pandas-docs/stable/indexing.html#indexing-view-versus-copy\n"
     ]
    },
    {
     "data": {
      "image/png": "[encoded data removed]",
      "text/plain": [
       "<matplotlib.figure.Figure at 0x1f24c72bcc0>"
      ]
     },
     "metadata": {},
     "output_type": "display_data"
    }
   ],
   "source": [
    "import matplotlib\n",
    "import matplotlib.pyplot as plt\n",
    "\n",
    "\n",
    "stockdata = loaddataFromGoogleSheet()\n",
    "stockdata.head()\n",
    "\n",
    "hsbc = stockdata[stockdata['Stock_Code'] == \"0005.HK\" ] \n",
    "\n",
    "hsbc[\"DateTime\"] = hsbc[\"Date\"].apply(lambda x: datetime.datetime.strptime(x, \"%m/%d/%Y %H:%M:%S\"))  \n",
    "\n",
    "hsbc.head()\n",
    "\n",
    "plt.plot( hsbc.DateTime, hsbc.Open)\n",
    "\n",
    "plt.show()\n",
    "\n",
    "n = hsbc[\"Open\"].shape[0]\n",
    "ffthsbc = np.fft.fft(hsbc[\"Open\"], n )\n",
    "\n",
    "def extractData( startpoint, endpoint, data):\n",
    "    return data.iloc[startpoint: endpoint]\n",
    "\n",
    "\n",
    "def shiftData( startpoint, data): \n",
    "    return data.iloc[startpoint+1:]\n",
    "\n",
    "\n",
    "def convertinput(windowsize = 10): \n",
    "    return 1, windowsize\n",
    "\n",
    "def checkend(windowsize, data): \n",
    "    if data.shape[0] < windowsize:\n",
    "        return True\n",
    "    else:\n",
    "        return False\n",
    "    \n",
    "\n",
    "\n",
    "def convertToPolar(npData): \n",
    "    return np.absolute(npData), np.angle(npData, deg=True)\n",
    "\n",
    "def sortedPolar( data): \n",
    "    zipped = sorted(zip(data[0], data[1]) , reverse=True) \n",
    "    abslist = []\n",
    "    anglelist = []\n",
    "    for abscomp , anglecomp in zipped: \n",
    "        abslist.append(abscomp)\n",
    "        anglelist.append(anglecomp)\n",
    "    return abslist, anglelist\n",
    "\n",
    "def convertTimeSeriesToFFT(data): \n",
    "    n = data.shape[0]\n",
    "    fttdata = np.fft.fft( data, n )\n",
    "    return sortedPolar( convertToPolar(fttdata))\n",
    "\n",
    "def FFTExtractedData( data, windowsize = 10): \n",
    "    startpoint , endpoint = convertinput(windowsize)\n",
    "    extractdata = extractData( startpoint, endpoint, data)\n",
    "    return convertTimeSeriesToFFT(extractdata) , shiftData(startpoint, data)\n",
    "\n",
    "def rollingFFT(data, windowsize = 10): \n",
    "    returnlist = [] \n",
    "    while( not checkend(windowsize, data) ):\n",
    "        fftdata, data = FFTExtractedData(data , windowsize)\n",
    "        returnlist.append([fftdata[0][:3], fftdata[1][:3]])\n",
    "    return  returnlist\n",
    "    '''\n",
    "    if not checkend(windowsize, data): \n",
    "        fftdata, shiftdata = FFTExtractedData(data , windowsize)\n",
    "        print(shiftdata.iloc[0])\n",
    "        return rollingFFT(shiftdata, windowsize).append([fftdata[0][0], fftdata[1][0]])\n",
    "    else:\n",
    "        return []\n",
    "    '''\n",
    "\n",
    "def rollingFFTFullData(data, windowsize = 10): \n",
    "    returnlist = [] \n",
    "    while( not checkend(windowsize, data) ):\n",
    "        fftdata, data = FFTExtractedData(data , windowsize)\n",
    "        returnlist.append([fftdata[0], fftdata[1]])\n",
    "    return  returnlist\n",
    "\n",
    "\n",
    "\n",
    "#fullFFTData = rollingFFT(hsbc.Close[:2000], 100)\n",
    "fullFFTData = rollingFFTFullData(hsbc.Close[:2000], 200)\n",
    "\n"
   ]
  },
  {
   "cell_type": "code",
   "execution_count": 2,
   "metadata": {
    "collapsed": false,
    "deletable": true,
    "editable": true
   },
   "outputs": [
    {
     "data": {
      "text/plain": [
       "199"
      ]
     },
     "execution_count": 2,
     "metadata": {},
     "output_type": "execute_result"
    }
   ],
   "source": [
    "a = pd.DataFrame(fullFFTData)\n",
    "len(a[1][0])"
   ]
  },
  {
   "cell_type": "code",
   "execution_count": 5,
   "metadata": {
    "collapsed": false,
    "deletable": true,
    "editable": true
   },
   "outputs": [
    {
     "data": {
      "text/plain": [
       "'\\nindex1= 100\\ndatafilter1 = [ x>= 0  for x in a[1][index1]] \\nang1 = filterdata(a[1][index1], datafilter1)\\nabsolute1 = filterdata(a[0][index1], datafilter1)\\nzipped1 = sorted(zip(ang1, absolute1))\\nzipped1 = list(zipped1)\\nang1 = [x[0] for x in zipped1]\\nabsolute1 = [x[1] for x in zipped1] \\n\\nindex2 = 160\\ndatafilter2 = [ x>= 0  for x in a[1][index2]] \\nang2 = filterdata(a[1][index2], datafilter2)\\nabsolute2 = filterdata(a[0][index2], datafilter2)\\nzipped2 = sorted(zip(ang2, absolute2))\\nzipped2 = list(zipped2)\\nang2= [x[0] for x in zipped2]\\nabsolute2 = [x[1] for x in zipped2]\\n'"
      ]
     },
     "execution_count": 5,
     "metadata": {},
     "output_type": "execute_result"
    }
   ],
   "source": [
    "def filterdata(data, filterlist ):\n",
    "    t = []\n",
    "    for i in range(len(filterlist)):\n",
    "        if filterlist[i]: \n",
    "            t.append(data[i])\n",
    "    return t\n",
    "\n",
    "fftplotdata = []\n",
    "#indexlist = [0, 30, 60 , 100, 120, 160, 190]\n",
    "#indexlist = [0, 50 , 100, 150, 190]\n",
    "indexlist = [0, 100, 190]\n",
    "\n",
    "\n",
    "\n",
    "for index in indexlist:\n",
    "    datafilter = [x >= 0 for x in a[1][index]]\n",
    "    ang = filterdata(a[1][index], datafilter)\n",
    "    absolute = filterdata(a[0][index], datafilter)\n",
    "    zipped = list(sorted(zip(ang, absolute)))\n",
    "    ang = [x[0] for x in zipped]\n",
    "    absolute = [x[1] for x in zipped]\n",
    "    fftplotdata.append( { \"index\":index , \"ang\": ang, \"abs_value\":absolute} )\n",
    "\n"
   ]
  },
  {
   "cell_type": "code",
   "execution_count": 7,
   "metadata": {
    "collapsed": false,
    "deletable": true,
    "editable": true,
    "scrolled": true
   },
   "outputs": [
    {
     "data": {
      "image/png": "[encoded data removed]",
      "text/plain": [
       "<matplotlib.figure.Figure at 0x1bdf8ad9128>"
      ]
     },
     "metadata": {},
     "output_type": "display_data"
    }
   ],
   "source": [
    "for data in fftplotdata: \n",
    "    plt.plot(data[\"ang\"][1:], data[\"abs_value\"][1:],label='index:%d' % data[\"index\"]  )\n",
    "plt.show()"
   ]
  },
  {
   "cell_type": "code",
   "execution_count": 30,
   "metadata": {
    "collapsed": false,
    "deletable": true,
    "editable": true
   },
   "outputs": [],
   "source": [
    "def sortfilterdata(inputdata, extracted_window = 0): \n",
    "    retinputdata = {}\n",
    "    if extracted_window <=0:\n",
    "        extracted_window = len(inputdata[\"abs_value\"])-1\n",
    "    #print(extracted_window)\n",
    "    zipped = list(sorted( zip( [ inputdata[\"abs_value\"] , inputdata[\"ang\"]  ] ), reverse = True))    \n",
    "    #print(zipped[0][0])\n",
    "    retinputdata[\"abs_value\"] = [x[0] for x in zipped[0]][:extracted_window]\n",
    "    retinputdata[\"ang\"] = [x[1] for x in zipped[1]][:extracted_window]\n",
    "    zipped = list(sorted( zip( [ retinputdata[\"ang\"] , retinputdata[\"abs_value\"]  ] )))    \n",
    "    retinputdata[\"ang\"] = [x[0] for x in zipped]\n",
    "    retinputdata[\"abs_value\"] = [x[0] for x in zipped]\n",
    "    retinputdata[\"index\"] = inputdata[\"index\"]\n",
    "    return retinputdata\n",
    "    \n",
    "def sortAlldata(inputdataCollection, extracted_window = 0):\n",
    "    newsortedextracteddata = []\n",
    "    for data in inputdataCollection: \n",
    "        a = sortfilterdata(data, extracted_window)\n",
    "        newsortedextracteddata.append(a)\n",
    "    return newsortedextracteddata\n",
    "\n",
    "newsortedextracteddata = sortAlldata(fftplotdata, 5)\n",
    "\n",
    "        "
   ]
  },
  {
   "cell_type": "code",
   "execution_count": 31,
   "metadata": {
    "collapsed": false,
    "deletable": true,
    "editable": true
   },
   "outputs": [
    {
     "data": {
      "text/plain": [
       "[{'abs_value': [[40.374001631026729], [17644.600000000002]],\n",
       "  'ang': [[40.374001631026729], [17644.600000000002]],\n",
       "  'index': 0},\n",
       " {'abs_value': [[2.4818505653248786], [18968.5]],\n",
       "  'ang': [[2.4818505653248786], [18968.5]],\n",
       "  'index': 100},\n",
       " {'abs_value': [[0.81989517093632691], [21374.5]],\n",
       "  'ang': [[0.81989517093632691], [21374.5]],\n",
       "  'index': 190}]"
      ]
     },
     "execution_count": 31,
     "metadata": {},
     "output_type": "execute_result"
    }
   ],
   "source": [
    "newsortedextracteddata"
   ]
  },
  {
   "cell_type": "code",
   "execution_count": null,
   "metadata": {
    "collapsed": true,
    "deletable": true,
    "editable": true
   },
   "outputs": [],
   "source": []
  }
 ],
 "metadata": {
  "kernelspec": {
   "display_name": "Python 3",
   "language": "python",
   "name": "python3"
  },
  "language_info": {
   "codemirror_mode": {
    "name": "ipython",
    "version": 3
   },
   "file_extension": ".py",
   "mimetype": "text/x-python",
   "name": "python",
   "nbconvert_exporter": "python",
   "pygments_lexer": "ipython3",
   "version": "3.5.2"
  }
 },
 "nbformat": 4,
 "nbformat_minor": 2
}
