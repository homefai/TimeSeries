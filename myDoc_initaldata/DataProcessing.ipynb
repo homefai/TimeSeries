{
 "cells": [
  {
   "cell_type": "code",
   "execution_count": 25,
   "metadata": {
    "collapsed": false,
    "deletable": true,
    "editable": true,
    "scrolled": true
   },
   "outputs": [
    {
     "name": "stdout",
     "output_type": "stream",
     "text": [
      "422699.2\n",
      "0.0\n"
     ]
    }
   ],
   "source": [
    "import numpy as np\n",
    "import pandas as pd\n",
    "import os\n",
    "\n",
    "dir_file =  os.listdir(os.getcwd())\n",
    "\n",
    "print(dir_file)\n",
    "\n",
    "stockdata = []\n",
    "for i in dir_file:\n",
    "    if i.find('.csv') >=0: \n",
    "        stockdata.append(pd.read_csv(i))\n",
    "stockdata = pd.concat(stockdata)\n",
    "\n",
    "\n",
    "\n",
    "import matplotlib\n",
    "import matplotlib.pyplot as plt\n",
    "import datetime\n",
    "\n",
    "stockdata.head()\n",
    "\n",
    "hsbc = stockdata[stockdata['Stock_Code'] == \"0005.HK\" ] \n",
    "\n",
    "hsbc[\"DateTime\"] = hsbc[\"Date\"].apply(lambda x: datetime.datetime.strptime(x, \"%m/%d/%Y %H:%M:%S\"))  \n",
    "\n",
    "hsbc.head()\n",
    "\n",
    "plt.plot( hsbc.DateTime, hsbc.Open)\n",
    "\n",
    "plt.show()\n",
    "\n",
    "n = hsbc[\"Open\"].shape[0]\n",
    "ffthsbc = np.fft.fft(hsbc[\"Open\"], n )\n",
    "\n",
    "def extractData( startpoint, endpoint, data):\n",
    "    return data[startpoint: endpoint]\n",
    "\n",
    "\n",
    "def shiftData( startpoint, data): \n",
    "    return data[startpoint+1:]\n",
    "\n",
    "\n",
    "def convertinput(windowsize = 10): \n",
    "    return 0, windowsize-1\n",
    "\n",
    "def checkend(windowsize, data): \n",
    "    if data.shape[0] < windowsize:\n",
    "        return True\n",
    "    else:\n",
    "        return False\n",
    "    \n",
    "\n",
    "\n",
    "def convertToPolar(npData): \n",
    "    return np.absolute(ffthsbc), np.angle(ffthsbc)\n",
    "\n",
    "def sortedPolar( data): \n",
    "    zipped = sorted(zip(data[0], data[1]) , reverse=True) \n",
    "    abslist = []\n",
    "    anglelist = []\n",
    "    for abscomp , anglecomp in zipped: \n",
    "        abslist.append(abscomp)\n",
    "        anglelist.append(anglecomp)\n",
    "    return abslist, anglelist\n",
    "\n",
    "def convertTimeSeriesToFFT(data): \n",
    "    n = data.shape[0]\n",
    "    return sortedPolar( convertToPolar( np.fft.fft( data, n )))\n",
    "\n",
    "def FFTExtractedData( data, windowsize = 10): \n",
    "    startpoint , endpoint = convertinput(windowsize)\n",
    "    extractdata = extractData( startpoint, endpoint, data)\n",
    "    return convertTimeSeriesToFFT(extractdata) , shiftData(endpoint, data)\n",
    "\n",
    "def rollingFFT(data, windowsize = 10): \n",
    "    if not checkend(windowsize, data): \n",
    "        fftdata, shiftdata = FFTExtractedData(data , windowsize)\n",
    "        return rollingFFT(shiftdata, windowsize).insert(fftdata,0)\n",
    "    else:\n",
    "        return []\n",
    "    \n",
    "\n",
    "\n",
    "\n",
    "fullFFTData = rollingFFT(hsbc.Close)\n",
    "\n",
    "print(b[0][0])\n",
    "print(b[1][0])"
   ]
  },
  {
   "cell_type": "code",
   "execution_count": 52,
   "metadata": {
    "collapsed": false,
    "deletable": true,
    "editable": true
   },
   "outputs": [
    {
     "data": {
      "text/plain": [
       "0       62.80\n",
       "1       64.50\n",
       "2       65.70\n",
       "3       64.30\n",
       "4       64.30\n",
       "5       64.70\n",
       "6       63.00\n",
       "7       62.70\n",
       "8       62.80\n",
       "9       61.70\n",
       "10      62.20\n",
       "11      63.80\n",
       "12      64.30\n",
       "13      66.00\n",
       "14      65.20\n",
       "15      68.70\n",
       "16      70.00\n",
       "17      71.00\n",
       "18      72.70\n",
       "19      74.30\n",
       "20      73.30\n",
       "21      73.00\n",
       "22      73.30\n",
       "23      75.70\n",
       "24      75.00\n",
       "25      77.00\n",
       "26      79.00\n",
       "27      77.70\n",
       "28      79.30\n",
       "29      79.00\n",
       "        ...  \n",
       "4490    62.40\n",
       "4491    62.10\n",
       "4492    62.25\n",
       "4493    62.30\n",
       "4494    63.00\n",
       "4495    63.80\n",
       "4496    64.10\n",
       "4497    64.40\n",
       "4498    64.25\n",
       "4499    64.45\n",
       "4500    66.35\n",
       "4501    66.50\n",
       "4502    66.80\n",
       "4503    67.15\n",
       "4504    67.35\n",
       "4505    67.95\n",
       "4506    68.10\n",
       "4507    68.85\n",
       "4508    69.00\n",
       "4509    68.70\n",
       "4510    67.40\n",
       "4511    67.00\n",
       "4512    67.70\n",
       "4513    67.65\n",
       "4514    67.40\n",
       "4515    67.65\n",
       "4516    67.50\n",
       "4517    67.75\n",
       "0       67.70\n",
       "1       67.90\n",
       "Name: Close, dtype: float64"
      ]
     },
     "execution_count": 52,
     "metadata": {},
     "output_type": "execute_result"
    }
   ],
   "source": []
  },
  {
   "cell_type": "code",
   "execution_count": 47,
   "metadata": {
    "collapsed": true,
    "deletable": true,
    "editable": true
   },
   "outputs": [],
   "source": [
    "a = [1,2,3,4]\n",
    "b =['a', 'e', 'z' , 'b' ]\n",
    "c = sorted(zip(a,b) , key = lambda x: x[1])"
   ]
  },
  {
   "cell_type": "code",
   "execution_count": 48,
   "metadata": {
    "collapsed": false,
    "deletable": true,
    "editable": true
   },
   "outputs": [
    {
     "name": "stdout",
     "output_type": "stream",
     "text": [
      "[(1, 'a'), (4, 'b'), (2, 'e'), (3, 'z')]\n"
     ]
    }
   ],
   "source": [
    "print(list(c))"
   ]
  },
  {
   "cell_type": "code",
   "execution_count": 50,
   "metadata": {
    "collapsed": false,
    "deletable": true,
    "editable": true
   },
   "outputs": [
    {
     "data": {
      "text/plain": [
       "[(1, 'a'), (4, 'b'), (2, 'e'), (3, 'z')]"
      ]
     },
     "execution_count": 50,
     "metadata": {},
     "output_type": "execute_result"
    }
   ],
   "source": [
    "list(c)"
   ]
  },
  {
   "cell_type": "code",
   "execution_count": 37,
   "metadata": {
    "collapsed": false,
    "deletable": true,
    "editable": true
   },
   "outputs": [
    {
     "data": {
      "text/plain": [
       "<zip at 0x268fe584688>"
      ]
     },
     "execution_count": 37,
     "metadata": {},
     "output_type": "execute_result"
    }
   ],
   "source": [
    "c"
   ]
  },
  {
   "cell_type": "code",
   "execution_count": 38,
   "metadata": {
    "collapsed": false,
    "deletable": true,
    "editable": true
   },
   "outputs": [
    {
     "data": {
      "text/plain": [
       "[]"
      ]
     },
     "execution_count": 38,
     "metadata": {},
     "output_type": "execute_result"
    }
   ],
   "source": [
    "list(c)"
   ]
  },
  {
   "cell_type": "code",
   "execution_count": null,
   "metadata": {
    "collapsed": true,
    "deletable": true,
    "editable": true
   },
   "outputs": [],
   "source": []
  }
 ],
 "metadata": {
  "kernelspec": {
   "display_name": "Python 3",
   "language": "python",
   "name": "python3"
  },
  "language_info": {
   "codemirror_mode": {
    "name": "ipython",
    "version": 3
   },
   "file_extension": ".py",
   "mimetype": "text/x-python",
   "name": "python",
   "nbconvert_exporter": "python",
   "pygments_lexer": "ipython3",
   "version": "3.5.2"
  }
 },
 "nbformat": 4,
 "nbformat_minor": 2
}
